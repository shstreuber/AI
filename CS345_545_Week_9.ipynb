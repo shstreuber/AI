{
  "nbformat": 4,
  "nbformat_minor": 0,
  "metadata": {
    "colab": {
      "provenance": [],
      "toc_visible": true,
      "include_colab_link": true
    },
    "kernelspec": {
      "name": "python3",
      "display_name": "Python 3"
    },
    "language_info": {
      "name": "python"
    }
  },
  "cells": [
    {
      "cell_type": "markdown",
      "metadata": {
        "id": "view-in-github",
        "colab_type": "text"
      },
      "source": [
        "<a href=\"https://colab.research.google.com/github/shstreuber/AI/blob/main/CS345_545_Week_9.ipynb\" target=\"_parent\"><img src=\"https://colab.research.google.com/assets/colab-badge.svg\" alt=\"Open In Colab\"/></a>"
      ]
    },
    {
      "cell_type": "markdown",
      "source": [
        "#**PATH SEARCH ALGORITHMS**\n",
        "In this workbook, you will learn about the various path search (or path optimization) algorithms:\n",
        "1. **Breadth First**, which expands the search frontier stepwise from a center point into all directions equally\n",
        "2. **Uniform Cost**, which attaches a \"cost\", i.e. a weight factor to each new step from the center point, so that frontier expansion is based on the cheapest path available, but still goes in all directions.\n",
        "3. **A Star (or A *)**, which adds to Uniform Cost a heuristic (=Greedy) Best-First function in order to prioritize frontier expansion in one single direction rather than all directions.\n",
        "\n",
        "The goal of all of these algorithms is to find the **optimal path** from one location to another.\n",
        "\n",
        "\n",
        "\n",
        "\n"
      ],
      "metadata": {
        "id": "qVx6SFUl2p16"
      }
    },
    {
      "cell_type": "markdown",
      "source": [
        "# **Example Scenario**\n",
        "\n",
        "Look at the graph below.\n",
        "* What is the shortest way to GET from Chicago to Boston?\n",
        "* What is the shortest way to DRIVE from Chicago to Boston?\n",
        "* What is the cheapest way to GET from Chicago to Boston?\n",
        "\n",
        "<img src = \"https://allisonznliu.com/assets/images/posts/2020/search-algorithms/us_map_distances.png\">\n",
        "\n",
        "As you can see in the map above:\n",
        "* To **GET** from Chicago to Boston, you would have to\n",
        "   * **FLY across Lake Michigan from Chicago to Detroit** (283 miles) and then\n",
        "   * **FLY across Lake Erie from Detroit to Buffalo** (256 miles) and then\n",
        "   * **DRIVE from Buffalo to Syracuse to Boston** (150 miles + 312 miles).\n",
        "   \n",
        " This route is **1,001 miles** long.\n",
        "* To **DRIVE** from Chicago to Boston based on our available routes, you would have to\n",
        "  * **DRIVE** from Chicago to Indianapolis (182 miles) to Columbus (176 miles) to Cleveland (144 miles) to Buffalo (189 miles) to Syracuse (150 miles) to Boston (312 miles) for a **grand total of 1,153 miles**.\n",
        "  * **DRIVE** from ... nah, you do the math! What other land routes can you use?\n",
        "  * **BUT WHAT IF** the highway from Chicago to Indianapolis is closed for construction?\n",
        "  \n",
        "<img src = \"https://degemmill.com/content/uploads/2017/07/iStock-450571709.jpg\">\n",
        "\n",
        "We can all agree that flying may be faster than driving, but flying is also more expensive than driving. So, **what is most important to you?**\n",
        "* Getting there **MORE QUICKLY**?\n",
        "* Getting there **CHEAPER**?\n",
        "* Visiting as many different states as possible because you're on **VACATION**?\n",
        "\n",
        "These are the questions that inform which path search algorithm we use.\n",
        "\n",
        "\n"
      ],
      "metadata": {
        "id": "QAOy7Uu5rRhX"
      }
    },
    {
      "cell_type": "markdown",
      "source": [
        "#**1. Breadth First Search**\n",
        "Breadth First Search (BFS) is a graph traversal algorithm that explores all the neighbor nodes at the present depth before moving on to the nodes at the next depth level. It starts at the root node (= Chicago) and explores each neighbor node at the current depth level (= Detroit, Cleveland, Indianapolis) before moving to the next depth level (= Buffalo, Pittsburgh, Columbus). BFS uses a queue data structure to keep track of the nodes to be visited.\n",
        "\n",
        "Here's a **high-level overview of BFS**:\n",
        "\n",
        "1. Enqueue the root node into the queue.\n",
        "2. While the queue is not empty, dequeue a node from the queue.\n",
        "3. If the dequeued node has not been visited yet, mark it as visited and enqueue all its neighboring nodes into the queue.\n",
        "4. Repeat steps 2-3 until the queue is empty.\n",
        "BFS is often used to find the shortest path in unweighted graphs and to explore all nodes in a graph.\n",
        "\n",
        "<hr>\n",
        "\n",
        "Below is a simple Python implementation of BFS. This code performs BFS on a simple graph represented as an **ADJACENCY LIST**.\n",
        "\n",
        "* An **ADJACENCY LIST** is a data structure used to represent a graph, where each vertex (or node) in the graph is associated with a list of its neighboring vertices. In other words, for each node in the graph, the adjacency list contains a list of all nodes that are directly connected to it by edges.\n",
        "\n",
        "It starts the traversal from node 0 and prints each visited node during the traversal. You can modify the processing step to suit your specific application."
      ],
      "metadata": {
        "id": "nOlu0fWWc4gv"
      }
    },
    {
      "cell_type": "code",
      "execution_count": null,
      "metadata": {
        "id": "bdDbP8_ncz9n"
      },
      "outputs": [],
      "source": [
        "from collections import defaultdict, deque\n",
        "\n",
        "def bfs(graph, start):\n",
        "    visited = set()              # Set to keep track of visited nodes\n",
        "    queue = deque([start])       # Initialize a queue with the start node\n",
        "    visited.add(start)           # Mark the start node as visited\n",
        "\n",
        "    while queue:\n",
        "        node = queue.popleft()   # Dequeue a node from the front of the queue\n",
        "        print(node)              # Process the current node (e.g., print or store it)\n",
        "\n",
        "        for neighbor in graph[node]:  # Iterate through neighbors of the current node\n",
        "            if neighbor not in visited:\n",
        "                visited.add(neighbor)  # Mark neighbor as visited\n",
        "                queue.append(neighbor) # Enqueue neighbor for further exploration\n",
        "\n",
        "# Example graph represented as an adjacency list\n",
        "graph = defaultdict(list)\n",
        "graph[0] = [1, 2]\n",
        "graph[1] = [0, 3, 4]\n",
        "graph[2] = [0, 5]\n",
        "graph[3] = [1]\n",
        "graph[4] = [1, 6]\n",
        "graph[5] = [2]\n",
        "graph[6] = [4]"
      ]
    },
    {
      "cell_type": "markdown",
      "source": [
        "The graph for this adjacency list looks like this:\n",
        "\n",
        "\n",
        "```\n",
        "         0\n",
        "        / \\\n",
        "       1   2\n",
        "      /|   |\n",
        "     3 4   5\n",
        "        |\n",
        "        6\n",
        "\n",
        "```\n",
        "\n"
      ],
      "metadata": {
        "id": "ar_LKVHywFZp"
      }
    },
    {
      "cell_type": "code",
      "source": [
        "# Perform BFS starting from node 0\n",
        "bfs(graph, 0) # Here is the BFS algorithm"
      ],
      "metadata": {
        "id": "LvE6hIR-wOQH"
      },
      "execution_count": null,
      "outputs": []
    },
    {
      "cell_type": "markdown",
      "source": [
        "##**Exercise 1**\n",
        "What does the adjacency list look like for our map in the scenario?\n",
        "Use the code row below to:\n",
        "* Build the graph\n",
        "* Perform the Breadth First Search (bfs) on it.\n"
      ],
      "metadata": {
        "id": "5Oaj-XfrwiGp"
      }
    },
    {
      "cell_type": "code",
      "source": [],
      "metadata": {
        "id": "S8bdbAWew6RY"
      },
      "execution_count": null,
      "outputs": []
    },
    {
      "cell_type": "markdown",
      "source": [
        "What does the result tell you? Is the optimal route the **cheapest** route? Or is it the **fastest** route?"
      ],
      "metadata": {
        "id": "nH6Hr86IxLN_"
      }
    },
    {
      "cell_type": "markdown",
      "source": [
        "# **2. Uniform Cost Search**\n",
        "Uniform Cost Search (UCS) is a graph traversal algorithm similar to Dijkstra's algorithm but optimized for graphs with non-negative edge weights (i.e. the route doesn't get cheaper; it only gets more expensive). UCS explores the graph in a breadth-first manner, but **prioritizing nodes with the lowest total cost to reach. It always selects the node with the lowest cumulative cost from the start node to the current node.**\n",
        "\n",
        "* A **PRIORITY QUEUE** is an abstract data structure that operates similarly to a regular queue or stack, but with elements having an associated priority. In a priority queue, elements with higher (or lower, depending on the implementation) priority are dequeued before those with lower priority. Priority queues are often implemented using heaps, which are specialized binary trees that ensure efficient insertion, deletion, and retrieval of elements based on their priority. We use **heapq** to implement the priority queue.\n",
        "\n",
        "Here's a high-level overview of UCS:\n",
        "\n",
        "1. Initialize a priority queue with the start node and its cost (0).\n",
        "2. While the priority queue is not empty:\n",
        "  * Dequeue the node with the lowest cost.\n",
        "  * If the dequeued node is the goal node, return the path.\n",
        "  * Otherwise, expand the dequeued node and enqueue its neighbors with updated costs.\n",
        "3. Repeat until the priority queue is empty.\n",
        "UCS guarantees to find the shortest path from the start node to the goal node in a graph with non-negative edge weights.\n",
        "\n",
        "Below is a simple Python implementation of Uniform Cost Search. This code performs UCS on a simple graph represented as an adjacency list. It starts the search from the start node and returns the total cost to reach the goal node. You can modify the graph and start/goal nodes to suit your specific scenario."
      ],
      "metadata": {
        "id": "Joi-0hx5d6_I"
      }
    },
    {
      "cell_type": "code",
      "source": [
        "import heapq\n",
        "\n",
        "def ucs(graph, start, goal):\n",
        "    pq = [(0, start)]  # Priority queue with (cost, node) tuples\n",
        "    visited = set()    # Set to keep track of visited nodes\n",
        "\n",
        "    while pq:\n",
        "        cost, node = heapq.heappop(pq)  # Dequeue node with lowest cost\n",
        "        if node == goal:\n",
        "            return cost  # Return the total cost if goal is reached\n",
        "        if node not in visited:\n",
        "            visited.add(node)\n",
        "            for neighbor, edge_cost in graph[node]:\n",
        "                if neighbor not in visited:\n",
        "                    heapq.heappush(pq, (cost + edge_cost, neighbor))  # Enqueue neighbors with updated cost\n",
        "\n",
        "    return float('inf')  # Return infinity if no path is found\n",
        "\n",
        "# Example graph represented as an adjacency list with (neighbor, edge_cost) tuples\n",
        "graph = {\n",
        "    'A': [('B', 1), ('C', 4)],\n",
        "    'B': [('A', 1), ('C', 2), ('D', 5)],\n",
        "    'C': [('A', 4), ('B', 2), ('D', 1)],\n",
        "    'D': [('B', 5), ('C', 1)]\n",
        "}\n"
      ],
      "metadata": {
        "id": "0x6XeBrnePSO"
      },
      "execution_count": null,
      "outputs": []
    },
    {
      "cell_type": "markdown",
      "source": [
        "This graph looks like this:\n",
        "\n",
        "```\n",
        "       1       4\n",
        "   A ----- B\n",
        "   | \\  2  / |\n",
        " 1 |   \\ / 5 | 1\n",
        "   |   / \\   |\n",
        "   | /  1  \\ |\n",
        "   C ----- D\n",
        "       2       5\n",
        "\n",
        "```\n",
        "In this visualization:\n",
        "\n",
        "* Nodes A, B, C, and D represent vertices in the graph.\n",
        "* Edges between nodes are labeled with their respective weights.\n",
        "For example, there is an edge between nodes A and B with a weight of 1, an edge between nodes A and C with a weight of 4, and so on.\n",
        "* This graph is **directed**, meaning that edges have a direction associated with them. However, the visualization does not explicitly show arrowheads to indicate directionality.\n",
        "\n",
        "**NOTE** the cost numbers on the sides!\n"
      ],
      "metadata": {
        "id": "dXOQoHXU2DcB"
      }
    },
    {
      "cell_type": "code",
      "source": [
        "# Computing the cost from start to goal\n",
        "start_node = 'A'\n",
        "goal_node = 'D'\n",
        "total_cost = ucs(graph, start_node, goal_node) # Here is the UCS algorithm\n",
        "print(\"Total cost from\", start_node, \"to\", goal_node, \"is\", total_cost)"
      ],
      "metadata": {
        "id": "eUPh3kpE6_Wd"
      },
      "execution_count": null,
      "outputs": []
    },
    {
      "cell_type": "markdown",
      "source": [
        "##**Exercise 2**\n",
        "Now, try this using the two code fields below:\n",
        "* Build **two adjacency lists** like the one in the UCS example for the map above.\n",
        "  * The **FIRST ONE** is for FLYING and DRIVING from Chicago to Boston.\n",
        "  * The **SECOND ONE** is for DRIVING ONLY from Chicago to Boston.\n",
        "* The start_node is always Chicago. The goal_node is always Boston.\n",
        "* Use the miles in the map in the Example Scenario above as the cost, but **ASSUME THAT FLYING is TWICE AS EXPENSIVE AS DRIVING**.\n",
        "* Use **ucs** to calculate the cost for each route."
      ],
      "metadata": {
        "id": "YUIr8uU90gxM"
      }
    },
    {
      "cell_type": "code",
      "source": [],
      "metadata": {
        "id": "ka5T35bE13ia"
      },
      "execution_count": null,
      "outputs": []
    },
    {
      "cell_type": "code",
      "source": [],
      "metadata": {
        "id": "doqP7G4y13lh"
      },
      "execution_count": null,
      "outputs": []
    },
    {
      "cell_type": "markdown",
      "source": [
        "#**3. A* Search**\n",
        "A* search is a graph traversal algorithm that efficiently finds the shortest path from a start node to a goal node by intelligently exploring nodes based on both the cost to reach them from the start node and an estimate of the cost to reach the goal node from them. It uses a heuristic function to guide the search, prioritizing nodes with the lowest total cost, which is a combination of the actual cost from the start node (g_cost) and the estimated cost to the goal node (h_cost).\n",
        "\n",
        "**Here's a high-level overview of A* search**:\n",
        "\n",
        "1. Initialize a priority queue with the start node and its total cost (g_cost + h_cost).\n",
        "2. While the priority queue is not empty:\n",
        "  * Dequeue the node with the lowest total cost.\n",
        "  * If the dequeued node is the goal node, return the path.\n",
        "  * Otherwise, expand the dequeued node and enqueue its neighbors with updated costs.\n",
        "3. Repeat until the priority queue is empty.\n",
        "A* search guarantees to find the shortest path from the start node to the goal node in graphs with non-negative edge weights, provided that the heuristic function is admissible (never overestimates the true cost) and consistent (satisfies the triangle inequality).\n",
        "\n",
        "Below is a Python implementation of A* search. This code performs an A* search on a simple graph represented as an adjacency list. It starts the search from the start node and returns the total cost to reach the goal node. You can modify the graph and start/goal nodes to suit your specific scenario."
      ],
      "metadata": {
        "id": "9SlC6VSoeQQN"
      }
    },
    {
      "cell_type": "code",
      "source": [
        "import heapq\n",
        "\n",
        "def astar(graph, start, goal):\n",
        "    pq = [(0 + heuristic(start, goal), 0, start)]  # Priority queue with (total_cost, g_cost, node) tuples\n",
        "    visited = set()  # Set to keep track of visited nodes\n",
        "\n",
        "    while pq:\n",
        "        _, cost, node = heapq.heappop(pq)  # Dequeue node with lowest total cost\n",
        "        if node == goal:\n",
        "            return cost  # Return the total cost if goal is reached\n",
        "        if node not in visited:\n",
        "            visited.add(node)\n",
        "            for neighbor, edge_cost in graph[node]:\n",
        "                if neighbor not in visited:\n",
        "                    g_cost = cost + edge_cost  # Update g_cost\n",
        "                    heapq.heappush(pq, (g_cost + heuristic(neighbor, goal), g_cost, neighbor))  # Enqueue with total cost\n",
        "\n",
        "    return float('inf')  # Return infinity if no path is found\n",
        "\n",
        "def heuristic(node, goal):\n",
        "    # Example: Manhattan distance heuristic\n",
        "    return abs(node[0] - goal[0]) + abs(node[1] - goal[1])\n",
        "\n",
        "# Example graph represented as an adjacency list with (neighbor, edge_cost) tuples\n",
        "graph = {\n",
        "    (0, 0): [((0, 1), 1), ((1, 0), 1)],\n",
        "    (0, 1): [((0, 0), 1), ((0, 2), 1)],\n",
        "    (0, 2): [((0, 1), 1), ((1, 2), 1)],\n",
        "    (1, 0): [((0, 0), 1), ((1, 1), 1)],\n",
        "    (1, 1): [((1, 0), 1), ((1, 2), 1)],\n",
        "    (1, 2): [((0, 2), 1), ((1, 1), 1)]\n",
        "}\n"
      ],
      "metadata": {
        "id": "X9be_ULmfMLX"
      },
      "execution_count": null,
      "outputs": []
    },
    {
      "cell_type": "markdown",
      "source": [
        "This graph looks like this:\n",
        "\n",
        "\n",
        "```\n",
        "(0, 0) --- (0, 1) --- (0, 2)\n",
        " |   \\       |         |\n",
        " |    \\1     |1        |1\n",
        " |     \\     |         |\n",
        "(1, 0) --- (1, 1) --- (1, 2)\n",
        "\n",
        "```\n",
        "In this visualization:\n",
        "\n",
        "* Each node is represented by its coordinates (x, y).\n",
        "* Edges between nodes are labeled with their respective weights.\n",
        "For example, there is an edge between nodes (0, 0) and (0, 1) with a weight of 1, an edge between nodes (0, 0) and (1, 0) with a weight of 1, and so on.\n",
        "* This graph is **undirected**, meaning that edges do not have a direction associated with them. Therefore, the visualization does not include arrowheads to indicate directionality.\n",
        "\n"
      ],
      "metadata": {
        "id": "UY3CdyXG7qeL"
      }
    },
    {
      "cell_type": "code",
      "source": [
        "#Computing the cost from start to goal\n",
        "start_node = (0, 0)\n",
        "goal_node = (1, 2)\n",
        "total_cost = astar(graph, start_node, goal_node) # Here is the A* algorithm\n",
        "print(\"Total cost from\", start_node, \"to\", goal_node, \"is\", total_cost)"
      ],
      "metadata": {
        "id": "0ABIrTqJ7JvD"
      },
      "execution_count": null,
      "outputs": []
    },
    {
      "cell_type": "markdown",
      "source": [
        "##**Exercise 3**\n",
        "Now, try this using the two code fields below:\n",
        "* Build **the adjacency list** like the one in the A* example for the map above.\n",
        "* The start_node is Chicago. The goal_node is Boston.\n",
        "* Use the miles in the map in the Example Scenario above as the cost, but **ASSUME THAT FLYING is TWICE AS EXPENSIVE AS DRIVING**.\n",
        "* Use **astar** to calculate the cost for each route."
      ],
      "metadata": {
        "id": "nrI9lPXe8N1M"
      }
    },
    {
      "cell_type": "code",
      "source": [],
      "metadata": {
        "id": "dhttmIHG8n8L"
      },
      "execution_count": null,
      "outputs": []
    },
    {
      "cell_type": "code",
      "source": [],
      "metadata": {
        "id": "EOwgkOSG8oE5"
      },
      "execution_count": null,
      "outputs": []
    }
  ]
}